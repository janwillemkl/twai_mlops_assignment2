{
 "cells": [
  {
   "cell_type": "markdown",
   "metadata": {},
   "source": [
    "# Bike Sharing Demand Prediction"
   ]
  },
  {
   "cell_type": "code",
   "execution_count": null,
   "metadata": {},
   "outputs": [],
   "source": [
    "import pandas as pd\n",
    "\n",
    "from sklearn.model_selection import train_test_split, GridSearchCV\n",
    "from sklearn.pipeline import Pipeline\n",
    "from sklearn.preprocessing import StandardScaler, OneHotEncoder\n",
    "from sklearn.compose import ColumnTransformer\n",
    "from sklearn.linear_model import LinearRegression\n",
    "from xgboost import XGBRegressor\n",
    "import mlflow"
   ]
  },
  {
   "cell_type": "markdown",
   "metadata": {},
   "source": [
    "## Configuration"
   ]
  },
  {
   "cell_type": "code",
   "execution_count": null,
   "metadata": {},
   "outputs": [],
   "source": [
    "NUMERIC_FEATURES = [\"temp\", \"hum\", \"windspeed\", \"cnt_lag_1\", \"cnt_lag_2\", \"cnt_lag_3\", \"cnt_lag_4\", \"cnt_lag_5\", \"cnt_lag_6\"]\n",
    "CATEGORICAL_FEATURES = [\"season\", \"mnth\", \"holiday\", \"weekday\", \"workingday\", \"weathersit\"]\n",
    "\n",
    "TARGET = \"cnt\"\n",
    "\n",
    "RANDOM_STATE = 42"
   ]
  },
  {
   "cell_type": "code",
   "execution_count": null,
   "metadata": {},
   "outputs": [],
   "source": [
    "mlflow.set_tracking_uri(\"http://localhost:4000\")\n",
    "mlflow.set_experiment(\"Bike sharing demand\")\n",
    "\n",
    "mlflow.sklearn.autolog(log_datasets=False)\n",
    "mlflow.xgboost.autolog(log_datasets=False)"
   ]
  },
  {
   "cell_type": "markdown",
   "metadata": {},
   "source": [
    "## Data Ingestion & Preparation"
   ]
  },
  {
   "cell_type": "code",
   "execution_count": null,
   "metadata": {},
   "outputs": [],
   "source": [
    "data = pd.read_csv(\"../data/day.csv\")\n",
    "data.head()"
   ]
  },
  {
   "cell_type": "code",
   "execution_count": null,
   "metadata": {},
   "outputs": [],
   "source": [
    "data[\"cnt_lag_1\"] = data[\"cnt\"].shift(1)\n",
    "data[\"cnt_lag_2\"] = data[\"cnt\"].shift(2)\n",
    "data[\"cnt_lag_3\"] = data[\"cnt\"].shift(3)\n",
    "data[\"cnt_lag_4\"] = data[\"cnt\"].shift(4)\n",
    "data[\"cnt_lag_5\"] = data[\"cnt\"].shift(5)\n",
    "data[\"cnt_lag_6\"] = data[\"cnt\"].shift(6)\n",
    "\n",
    "data = data.dropna()"
   ]
  },
  {
   "cell_type": "code",
   "execution_count": null,
   "metadata": {},
   "outputs": [],
   "source": [
    "feature_columns = NUMERIC_FEATURES + CATEGORICAL_FEATURES\n",
    "features = data[feature_columns + [TARGET]]\n",
    "features.head()"
   ]
  },
  {
   "cell_type": "code",
   "execution_count": null,
   "metadata": {},
   "outputs": [],
   "source": [
    "train_data, test_data = train_test_split(features, random_state=RANDOM_STATE)\n",
    "\n",
    "train_input = train_data[feature_columns]\n",
    "train_output = train_data[TARGET]"
   ]
  },
  {
   "cell_type": "markdown",
   "metadata": {},
   "source": [
    "## Linear Regression"
   ]
  },
  {
   "cell_type": "code",
   "execution_count": null,
   "metadata": {},
   "outputs": [],
   "source": [
    "numeric_transformer = Pipeline([\n",
    "    (\"scaler\", StandardScaler()),\n",
    "])\n",
    "\n",
    "categorical_transformer = Pipeline([\n",
    "    (\"encoder\", OneHotEncoder()),\n",
    "])\n",
    "\n",
    "preprocessor = ColumnTransformer([\n",
    "    (\"numeric\", numeric_transformer, NUMERIC_FEATURES),\n",
    "    (\"categorical\", categorical_transformer, CATEGORICAL_FEATURES),\n",
    "])\n",
    "\n",
    "pipeline = Pipeline([\n",
    "    (\"preprocessor\", preprocessor),\n",
    "    (\"estimator\", LinearRegression())\n",
    "])"
   ]
  },
  {
   "cell_type": "code",
   "execution_count": null,
   "metadata": {},
   "outputs": [],
   "source": [
    "with mlflow.start_run():\n",
    "    pipeline.fit(train_input, train_output)\n",
    "\n",
    "    mlflow.evaluate(\n",
    "        model=pipeline.predict,\n",
    "        data=test_data,\n",
    "        targets=TARGET,\n",
    "        model_type=\"regressor\"\n",
    "    )"
   ]
  },
  {
   "cell_type": "markdown",
   "metadata": {},
   "source": [
    "## XGBoost with Hyperparameter Tuning"
   ]
  },
  {
   "cell_type": "code",
   "execution_count": null,
   "metadata": {},
   "outputs": [],
   "source": [
    "numeric_transformer = Pipeline([\n",
    "    (\"scaler\", StandardScaler()),\n",
    "])\n",
    "\n",
    "categorical_transformer = Pipeline([\n",
    "    (\"encoder\", OneHotEncoder()),\n",
    "])\n",
    "\n",
    "preprocessor = ColumnTransformer([\n",
    "    (\"numeric\", numeric_transformer, NUMERIC_FEATURES),\n",
    "    (\"categorical\", categorical_transformer, CATEGORICAL_FEATURES),\n",
    "])\n",
    "\n",
    "pipeline = Pipeline([\n",
    "    (\"preprocessor\", preprocessor),\n",
    "    (\"estimator\", XGBRegressor(random_state=RANDOM_STATE))\n",
    "])"
   ]
  },
  {
   "cell_type": "code",
   "execution_count": null,
   "metadata": {},
   "outputs": [],
   "source": [
    "param_grid = {\n",
    "    'estimator__n_estimators': [100, 200, 300],\n",
    "    'estimator__learning_rate': [0.01, 0.1, 0.2],\n",
    "    'estimator__max_depth': [3, 5, 7],\n",
    "    'estimator__subsample': [0.8, 1.0],\n",
    "    'estimator__colsample_bytree': [0.8, 1.0]\n",
    "}\n",
    "\n",
    "with mlflow.start_run():\n",
    "    grid_search = GridSearchCV(pipeline, param_grid, cv=3, scoring=\"neg_mean_absolute_error\", verbose=2, n_jobs=-1)\n",
    "    grid_search.fit(train_input, train_output)\n",
    "\n",
    "    mlflow.evaluate(\n",
    "        model=grid_search.best_estimator_.predict,\n",
    "        data=test_data,\n",
    "        targets=TARGET,\n",
    "        model_type=\"regressor\"\n",
    "    )"
   ]
  }
 ],
 "metadata": {
  "kernelspec": {
   "display_name": ".venv",
   "language": "python",
   "name": "python3"
  },
  "language_info": {
   "codemirror_mode": {
    "name": "ipython",
    "version": 3
   },
   "file_extension": ".py",
   "mimetype": "text/x-python",
   "name": "python",
   "nbconvert_exporter": "python",
   "pygments_lexer": "ipython3",
   "version": "3.12.8"
  }
 },
 "nbformat": 4,
 "nbformat_minor": 2
}
